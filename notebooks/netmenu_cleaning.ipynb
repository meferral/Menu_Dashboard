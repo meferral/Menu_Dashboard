{
 "cells": [
  {
   "cell_type": "code",
   "execution_count": 1,
   "metadata": {},
   "outputs": [],
   "source": [
    "import pandas as pd\n",
    "import re\n",
    "import datetime as dt\n",
    "import os\n",
    "import glob"
   ]
  },
  {
   "cell_type": "markdown",
   "metadata": {},
   "source": [
    "Nov_4_Comm = pd.read_csv('../netmenu_files/Netmenu11.4.csv', encoding='latin-1')\n"
   ]
  },
  {
   "cell_type": "code",
   "execution_count": 2,
   "metadata": {},
   "outputs": [],
   "source": [
    "os.chdir(r'C:\\Users\\ferralme\\OneDrive - Vanderbilt\\ODCapstone\\OD_netmenu_trigger_files')"
   ]
  },
  {
   "cell_type": "code",
   "execution_count": 3,
   "metadata": {},
   "outputs": [],
   "source": [
    "file_extension = '.csv'"
   ]
  },
  {
   "cell_type": "code",
   "execution_count": 4,
   "metadata": {},
   "outputs": [],
   "source": [
    "all_filenames = [i for i in glob.glob(f\"*{file_extension}\")]"
   ]
  },
  {
   "cell_type": "code",
   "execution_count": 5,
   "metadata": {
    "scrolled": true
   },
   "outputs": [
    {
     "name": "stdout",
     "output_type": "stream",
     "text": [
      "['Netmenu11.4.csv', 'Netmenu11.5.csv', 'Netmenu11.6.csv', 'Netmenu11.7.csv']\n"
     ]
    }
   ],
   "source": [
    "print(all_filenames)"
   ]
  },
  {
   "cell_type": "code",
   "execution_count": 6,
   "metadata": {},
   "outputs": [
    {
     "name": "stderr",
     "output_type": "stream",
     "text": [
      "C:\\Users\\ferralme\\Anaconda3\\lib\\site-packages\\IPython\\core\\interactiveshell.py:3338: DtypeWarning: Columns (19,29,55,83,114) have mixed types.Specify dtype option on import or set low_memory=False.\n",
      "  if (await self.run_code(code, result,  async_=asy)):\n",
      "C:\\Users\\ferralme\\Anaconda3\\lib\\site-packages\\IPython\\core\\interactiveshell.py:3338: DtypeWarning: Columns (19,29,55,114) have mixed types.Specify dtype option on import or set low_memory=False.\n",
      "  if (await self.run_code(code, result,  async_=asy)):\n"
     ]
    }
   ],
   "source": [
    "netmenu = pd.concat([pd.read_csv(file, encoding='latin-1') for file in all_filenames],ignore_index=True)"
   ]
  },
  {
   "cell_type": "code",
   "execution_count": 7,
   "metadata": {},
   "outputs": [],
   "source": [
    "netmenu= netmenu.drop_duplicates()"
   ]
  },
  {
   "cell_type": "code",
   "execution_count": 8,
   "metadata": {},
   "outputs": [],
   "source": [
    "netmenu[['Day','mealperiod']] = netmenu['Name'].str.split('-', n=1,expand=True)"
   ]
  },
  {
   "cell_type": "code",
   "execution_count": 9,
   "metadata": {
    "scrolled": true
   },
   "outputs": [],
   "source": [
    "netmenu = netmenu[['AscTimePeriodName','ScheduleDate','Name', 'Day','mealperiod','AscServiceCourseName','SSServiceName','AscForecastUofMName','AscPreparedUofMName','AscServedUofMName','SSForecastAmount','SSForecastCost','SSPreparedAmount','SSPreparedCost','SSServedAmount','SSServedCost']]\n"
   ]
  },
  {
   "cell_type": "code",
   "execution_count": 10,
   "metadata": {},
   "outputs": [
    {
     "data": {
      "text/html": [
       "<div>\n",
       "<style scoped>\n",
       "    .dataframe tbody tr th:only-of-type {\n",
       "        vertical-align: middle;\n",
       "    }\n",
       "\n",
       "    .dataframe tbody tr th {\n",
       "        vertical-align: top;\n",
       "    }\n",
       "\n",
       "    .dataframe thead th {\n",
       "        text-align: right;\n",
       "    }\n",
       "</style>\n",
       "<table border=\"1\" class=\"dataframe\">\n",
       "  <thead>\n",
       "    <tr style=\"text-align: right;\">\n",
       "      <th></th>\n",
       "      <th>AscTimePeriodName</th>\n",
       "      <th>ScheduleDate</th>\n",
       "      <th>Name</th>\n",
       "      <th>Day</th>\n",
       "      <th>mealperiod</th>\n",
       "      <th>AscServiceCourseName</th>\n",
       "      <th>SSServiceName</th>\n",
       "      <th>AscForecastUofMName</th>\n",
       "      <th>AscPreparedUofMName</th>\n",
       "      <th>AscServedUofMName</th>\n",
       "      <th>SSForecastAmount</th>\n",
       "      <th>SSForecastCost</th>\n",
       "      <th>SSPreparedAmount</th>\n",
       "      <th>SSPreparedCost</th>\n",
       "      <th>SSServedAmount</th>\n",
       "      <th>SSServedCost</th>\n",
       "    </tr>\n",
       "  </thead>\n",
       "  <tbody>\n",
       "    <tr>\n",
       "      <th>0</th>\n",
       "      <td>Breakfast</td>\n",
       "      <td>11/4/2019 0:00</td>\n",
       "      <td>Monday-Breakfast</td>\n",
       "      <td>Monday</td>\n",
       "      <td>Breakfast</td>\n",
       "      <td>Salad Bar</td>\n",
       "      <td>Frozen Blueberries</td>\n",
       "      <td>2 oz. portion</td>\n",
       "      <td>2 oz. portion</td>\n",
       "      <td>2 oz. portion</td>\n",
       "      <td>5</td>\n",
       "      <td>2.36</td>\n",
       "      <td>5</td>\n",
       "      <td>2.36</td>\n",
       "      <td>5</td>\n",
       "      <td>2.36</td>\n",
       "    </tr>\n",
       "    <tr>\n",
       "      <th>5</th>\n",
       "      <td>Breakfast</td>\n",
       "      <td>11/4/2019 0:00</td>\n",
       "      <td>Monday-Breakfast</td>\n",
       "      <td>Monday</td>\n",
       "      <td>Breakfast</td>\n",
       "      <td>Salad Bar</td>\n",
       "      <td>Cottage Cheese</td>\n",
       "      <td>1 lb.</td>\n",
       "      <td>1 lb.</td>\n",
       "      <td>1 lb.</td>\n",
       "      <td>5</td>\n",
       "      <td>1.43</td>\n",
       "      <td>30</td>\n",
       "      <td>1.43</td>\n",
       "      <td>30</td>\n",
       "      <td>1.43</td>\n",
       "    </tr>\n",
       "    <tr>\n",
       "      <th>10</th>\n",
       "      <td>Breakfast</td>\n",
       "      <td>11/4/2019 0:00</td>\n",
       "      <td>Monday-Breakfast</td>\n",
       "      <td>Monday</td>\n",
       "      <td>Breakfast</td>\n",
       "      <td>Salad Bar</td>\n",
       "      <td>Mini Chocolate Chips</td>\n",
       "      <td>1 lb.</td>\n",
       "      <td>1 lb.</td>\n",
       "      <td>1 lb.</td>\n",
       "      <td>1</td>\n",
       "      <td>2.58</td>\n",
       "      <td>1</td>\n",
       "      <td>2.58</td>\n",
       "      <td>1</td>\n",
       "      <td>2.58</td>\n",
       "    </tr>\n",
       "    <tr>\n",
       "      <th>11</th>\n",
       "      <td>Breakfast</td>\n",
       "      <td>11/4/2019 0:00</td>\n",
       "      <td>Monday-Breakfast</td>\n",
       "      <td>Monday</td>\n",
       "      <td>Breakfast</td>\n",
       "      <td>Salad Bar</td>\n",
       "      <td>Oreo Cookie Crumb</td>\n",
       "      <td>1 lb.</td>\n",
       "      <td>1 lb.</td>\n",
       "      <td>1 lb.</td>\n",
       "      <td>1</td>\n",
       "      <td>3.04</td>\n",
       "      <td>2</td>\n",
       "      <td>3.04</td>\n",
       "      <td>2</td>\n",
       "      <td>3.04</td>\n",
       "    </tr>\n",
       "    <tr>\n",
       "      <th>12</th>\n",
       "      <td>Breakfast</td>\n",
       "      <td>11/4/2019 0:00</td>\n",
       "      <td>Monday-Breakfast</td>\n",
       "      <td>Monday</td>\n",
       "      <td>Breakfast</td>\n",
       "      <td>Salad Bar</td>\n",
       "      <td>Craisins</td>\n",
       "      <td>1 lb.</td>\n",
       "      <td>1 lb.</td>\n",
       "      <td>1 lb.</td>\n",
       "      <td>2</td>\n",
       "      <td>2.09</td>\n",
       "      <td>2</td>\n",
       "      <td>2.09</td>\n",
       "      <td>2</td>\n",
       "      <td>2.09</td>\n",
       "    </tr>\n",
       "  </tbody>\n",
       "</table>\n",
       "</div>"
      ],
      "text/plain": [
       "   AscTimePeriodName    ScheduleDate              Name     Day mealperiod  \\\n",
       "0          Breakfast  11/4/2019 0:00  Monday-Breakfast  Monday  Breakfast   \n",
       "5          Breakfast  11/4/2019 0:00  Monday-Breakfast  Monday  Breakfast   \n",
       "10         Breakfast  11/4/2019 0:00  Monday-Breakfast  Monday  Breakfast   \n",
       "11         Breakfast  11/4/2019 0:00  Monday-Breakfast  Monday  Breakfast   \n",
       "12         Breakfast  11/4/2019 0:00  Monday-Breakfast  Monday  Breakfast   \n",
       "\n",
       "   AscServiceCourseName         SSServiceName AscForecastUofMName  \\\n",
       "0             Salad Bar    Frozen Blueberries       2 oz. portion   \n",
       "5             Salad Bar        Cottage Cheese               1 lb.   \n",
       "10            Salad Bar  Mini Chocolate Chips               1 lb.   \n",
       "11            Salad Bar     Oreo Cookie Crumb               1 lb.   \n",
       "12            Salad Bar              Craisins               1 lb.   \n",
       "\n",
       "   AscPreparedUofMName AscServedUofMName  SSForecastAmount  SSForecastCost  \\\n",
       "0        2 oz. portion     2 oz. portion                 5            2.36   \n",
       "5                1 lb.             1 lb.                 5            1.43   \n",
       "10               1 lb.             1 lb.                 1            2.58   \n",
       "11               1 lb.             1 lb.                 1            3.04   \n",
       "12               1 lb.             1 lb.                 2            2.09   \n",
       "\n",
       "    SSPreparedAmount  SSPreparedCost  SSServedAmount  SSServedCost  \n",
       "0                  5            2.36               5          2.36  \n",
       "5                 30            1.43              30          1.43  \n",
       "10                 1            2.58               1          2.58  \n",
       "11                 2            3.04               2          3.04  \n",
       "12                 2            2.09               2          2.09  "
      ]
     },
     "execution_count": 10,
     "metadata": {},
     "output_type": "execute_result"
    }
   ],
   "source": [
    "netmenu.head()"
   ]
  },
  {
   "cell_type": "code",
   "execution_count": 11,
   "metadata": {
    "scrolled": true
   },
   "outputs": [],
   "source": [
    "netmenu['ScheduleDate'] = netmenu['ScheduleDate'].map(lambda x: str(x)[:-4])"
   ]
  },
  {
   "cell_type": "code",
   "execution_count": 12,
   "metadata": {},
   "outputs": [],
   "source": [
    "netmenu['ScheduleDate']=pd.to_datetime(netmenu.ScheduleDate)"
   ]
  },
  {
   "cell_type": "code",
   "execution_count": 13,
   "metadata": {
    "scrolled": false
   },
   "outputs": [],
   "source": [
    "netmenu[['Day','mealperiod']] = netmenu['Name'].str.split('-', n=1,expand=True)"
   ]
  },
  {
   "cell_type": "code",
   "execution_count": 14,
   "metadata": {},
   "outputs": [],
   "source": [
    "netmenu.to_excel(r'C:\\Users\\ferralme\\nss-data-analytics\\Capstone\\netmenu_pbi_files\\netmenu.xlsx', index = False)"
   ]
  },
  {
   "cell_type": "code",
   "execution_count": null,
   "metadata": {},
   "outputs": [],
   "source": []
  }
 ],
 "metadata": {
  "kernelspec": {
   "display_name": "Python 3",
   "language": "python",
   "name": "python3"
  },
  "language_info": {
   "codemirror_mode": {
    "name": "ipython",
    "version": 3
   },
   "file_extension": ".py",
   "mimetype": "text/x-python",
   "name": "python",
   "nbconvert_exporter": "python",
   "pygments_lexer": "ipython3",
   "version": "3.8.5"
  }
 },
 "nbformat": 4,
 "nbformat_minor": 4
}
