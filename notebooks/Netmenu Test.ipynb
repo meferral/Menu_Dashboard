{
 "cells": [
  {
   "cell_type": "code",
   "execution_count": null,
   "metadata": {
    "scrolled": false
   },
   "outputs": [
    {
     "name": "stdout",
     "output_type": "stream",
     "text": [
      "done\n",
      "done\n",
      "done\n",
      "done\n",
      "done\n",
      "done\n",
      "done\n",
      "done\n",
      "done\n",
      "done\n",
      "done\n",
      "done\n",
      "done\n",
      "done\n",
      "done\n"
     ]
    }
   ],
   "source": [
    "import pandas as pd\n",
    "import re\n",
    "import datetime as dt\n",
    "import os\n",
    "import glob\n",
    "import schedule\n",
    "import time\n",
    "def run_netmenu():\n",
    "    os.chdir(r'C:\\Users\\ferralme\\OneDrive - Vanderbilt\\ODCapstone\\OD_netmenu_trigger_files')\n",
    "    file_extension = '.csv'\n",
    "    all_filenames = [i for i in glob.glob(f\"*{file_extension}\")]\n",
    "    netmenu = pd.concat([pd.read_csv(file, encoding='latin-1') for file in all_filenames],ignore_index=True)\n",
    "    netmenu= netmenu.drop_duplicates()\n",
    "    netmenu[['Day','mealperiod']] = netmenu['Name'].str.split('-', n=1,expand=True)\n",
    "    netmenu = netmenu[['AscTimePeriodName','ScheduleDate','Name', 'Day','mealperiod','AscServiceCourseName','SSServiceName','AscForecastUofMName','AscPreparedUofMName','AscServedUofMName','SSForecastAmount','SSForecastCost','SSPreparedAmount','SSPreparedCost','SSServedAmount','SSServedCost']]\n",
    "    netmenu['ScheduleDate'] = netmenu['ScheduleDate'].map(lambda x: str(x)[:-4])\n",
    "    netmenu['ScheduleDate']=pd.to_datetime(netmenu.ScheduleDate)\n",
    "    netmenu[['Day','mealperiod']] = netmenu['Name'].str.split('-', n=1,expand=True)\n",
    "    netmenu[['Leftover Amount']] = netmenu['SSPreparedAmount'] - netmenu['SSServedAmount']\n",
    "    netmenu[['Forecasted Cost']]  = netmenu['SSForecastCost'] * netmenu['SSForecastAmount']\n",
    "    netmenu[['Prepared Cost']]  = netmenu['SSPreparedCost'] * netmenu['SSPreparedAmount']\n",
    "    netmenu[['Served Cost']]  = netmenu['SSServedCost'] * netmenu['SSServedAmount']\n",
    "    netmenu[['Leftover Cost']]  = netmenu['Prepared Cost'] - netmenu['Served Cost']\n",
    "    netmenu.to_excel(r'C:\\Users\\ferralme\\nss-data-analytics\\Capstone\\netmenu_pbi_files\\netmenu.xlsx', index = False)\n",
    "    print('done')\n",
    "schedule.every(30).seconds.do(run_netmenu)\n",
    "\n",
    "while 1 :\n",
    "    schedule.run_pending()\n",
    "    time.sleep(1)   "
   ]
  },
  {
   "cell_type": "code",
   "execution_count": null,
   "metadata": {},
   "outputs": [],
   "source": []
  },
  {
   "cell_type": "code",
   "execution_count": null,
   "metadata": {},
   "outputs": [],
   "source": []
  }
 ],
 "metadata": {
  "kernelspec": {
   "display_name": "Python 3",
   "language": "python",
   "name": "python3"
  },
  "language_info": {
   "codemirror_mode": {
    "name": "ipython",
    "version": 3
   },
   "file_extension": ".py",
   "mimetype": "text/x-python",
   "name": "python",
   "nbconvert_exporter": "python",
   "pygments_lexer": "ipython3",
   "version": "3.8.5"
  }
 },
 "nbformat": 4,
 "nbformat_minor": 4
}
